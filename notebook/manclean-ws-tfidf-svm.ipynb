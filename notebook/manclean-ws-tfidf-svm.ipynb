{
 "cells": [
  {
   "cell_type": "markdown",
   "metadata": {},
   "source": [
    "### Manual Cleansing, Data Augmentation Word Similarity, TF-IDF, Support Vector Machine"
   ]
  },
  {
   "cell_type": "code",
   "execution_count": 1,
   "metadata": {},
   "outputs": [],
   "source": [
    "import os\n",
    "import glob\n",
    "import pickle\n",
    "\n",
    "import pandas as pd\n",
    "import numpy as np\n",
    "import seaborn as sns\n",
    "from collections import Counter\n",
    "\n",
    "from nltk.tokenize import word_tokenize\n",
    "from Sastrawi.Stemmer.StemmerFactory import StemmerFactory\n",
    "\n",
    "from sklearn.model_selection import train_test_split, KFold, StratifiedKFold\n",
    "from sklearn.feature_extraction.text import CountVectorizer, TfidfVectorizer\n",
    "from sklearn.feature_selection import SelectPercentile, mutual_info_classif, chi2\n",
    "from sklearn.naive_bayes import MultinomialNB\n",
    "from sklearn.svm import SVC\n",
    "import xgboost as xgb\n",
    "from lightgbm.sklearn import LGBMClassifier\n",
    "from sklearn.ensemble import AdaBoostClassifier\n",
    "from sklearn.metrics import f1_score, precision_score, recall_score\n",
    "\n",
    "%matplotlib inline"
   ]
  },
  {
   "cell_type": "markdown",
   "metadata": {},
   "source": [
    "## data-prep"
   ]
  },
  {
   "cell_type": "code",
   "execution_count": 2,
   "metadata": {},
   "outputs": [],
   "source": [
    "data_path = '../data'"
   ]
  },
  {
   "cell_type": "code",
   "execution_count": 3,
   "metadata": {},
   "outputs": [],
   "source": [
    "data_dict = pickle.load(open(os.path.join(data_path, 'cleaned', 'all_data_cleaned_augmented_false.pkl'), 'rb'))"
   ]
  },
  {
   "cell_type": "code",
   "execution_count": 4,
   "metadata": {},
   "outputs": [],
   "source": [
    "stopwords = pickle.load(open(os.path.join(data_path, 'support', 'stopwords.pkl'), 'rb'))"
   ]
  },
  {
   "cell_type": "code",
   "execution_count": 5,
   "metadata": {},
   "outputs": [
    {
     "data": {
      "text/plain": [
       "dict_keys(['train', 'dev'])"
      ]
     },
     "execution_count": 5,
     "metadata": {},
     "output_type": "execute_result"
    }
   ],
   "source": [
    "data_dict.keys()"
   ]
  },
  {
   "cell_type": "code",
   "execution_count": 6,
   "metadata": {},
   "outputs": [],
   "source": [
    "d_train = data_dict['train']\n",
    "d_dev = data_dict['dev']"
   ]
  },
  {
   "cell_type": "code",
   "execution_count": 7,
   "metadata": {},
   "outputs": [
    {
     "data": {
      "text/plain": [
       "(7243, 6)"
      ]
     },
     "execution_count": 7,
     "metadata": {},
     "output_type": "execute_result"
    }
   ],
   "source": [
    "d_train.shape"
   ]
  },
  {
   "cell_type": "code",
   "execution_count": 8,
   "metadata": {},
   "outputs": [
    {
     "data": {
      "text/plain": [
       "(459, 4)"
      ]
     },
     "execution_count": 8,
     "metadata": {},
     "output_type": "execute_result"
    }
   ],
   "source": [
    "d_dev.shape"
   ]
  },
  {
   "cell_type": "code",
   "execution_count": 9,
   "metadata": {},
   "outputs": [
    {
     "data": {
      "text/plain": [
       "1    5474\n",
       "0    1769\n",
       "Name: LABEL, dtype: int64"
      ]
     },
     "execution_count": 9,
     "metadata": {},
     "output_type": "execute_result"
    }
   ],
   "source": [
    "d_train.LABEL.value_counts()"
   ]
  },
  {
   "cell_type": "code",
   "execution_count": 10,
   "metadata": {},
   "outputs": [],
   "source": [
    "d_train.reset_index(drop = True, inplace=True)"
   ]
  },
  {
   "cell_type": "markdown",
   "metadata": {},
   "source": [
    "## cleansing"
   ]
  },
  {
   "cell_type": "code",
   "execution_count": 11,
   "metadata": {},
   "outputs": [],
   "source": [
    "factory = StemmerFactory()\n",
    "stemmer = factory.create_stemmer()"
   ]
  },
  {
   "cell_type": "code",
   "execution_count": 12,
   "metadata": {},
   "outputs": [],
   "source": [
    "def cleansing(sentence):\n",
    "    sentence = sentence.lower()\n",
    "    word_list = word_tokenize(sentence)\n",
    "#     word_list = [word for word in word_list if word not in stopwords]\n",
    "    word_list = [word for word in word_list if len(word) > 1]\n",
    "    word_list = [stemmer.stem(word) for word in word_list]\n",
    "    sentence = \" \".join(word_list)\n",
    "    \n",
    "    return sentence"
   ]
  },
  {
   "cell_type": "code",
   "execution_count": 13,
   "metadata": {},
   "outputs": [],
   "source": [
    "d_train['response_cleansing'] = d_train.response_2.apply(cleansing)\n",
    "d_dev['response_cleansing'] = d_dev.response_2.apply(cleansing)"
   ]
  },
  {
   "cell_type": "markdown",
   "metadata": {},
   "source": [
    "## feature extraction"
   ]
  },
  {
   "cell_type": "code",
   "execution_count": 14,
   "metadata": {},
   "outputs": [
    {
     "data": {
      "text/plain": [
       "(7243, 596)"
      ]
     },
     "execution_count": 14,
     "metadata": {},
     "output_type": "execute_result"
    }
   ],
   "source": [
    "tfidf = TfidfVectorizer(ngram_range=(1,1))\n",
    "\n",
    "X = tfidf.fit_transform(d_train.response_cleansing)\n",
    "\n",
    "X_dev = tfidf.transform(d_dev.response_cleansing)\n",
    "\n",
    "X.shape"
   ]
  },
  {
   "cell_type": "markdown",
   "metadata": {},
   "source": [
    "## modeling"
   ]
  },
  {
   "cell_type": "code",
   "execution_count": 15,
   "metadata": {},
   "outputs": [],
   "source": [
    "def evaluation(y_true, y_pred):\n",
    "    f1score = f1_score(y_true, y_pred)\n",
    "    prec = precision_score(y_true, y_pred)\n",
    "    recall = recall_score(y_true, y_pred)\n",
    "    \n",
    "    return {'f1score': f1score, 'precision': prec, 'recall': recall}"
   ]
  },
  {
   "cell_type": "code",
   "execution_count": 16,
   "metadata": {},
   "outputs": [],
   "source": [
    "kf = StratifiedKFold(n_splits=5, random_state=123)"
   ]
  },
  {
   "cell_type": "markdown",
   "metadata": {},
   "source": [
    "### SVM"
   ]
  },
  {
   "cell_type": "code",
   "execution_count": 17,
   "metadata": {},
   "outputs": [],
   "source": [
    "score_list = []\n",
    "spliter_index = []\n",
    "C = np.array(list(range(1, 15))) / 10\n",
    "for c_param in C:\n",
    "    for train, test in kf.split(X, d_train.LABEL):\n",
    "        spliter_index.append([train, test])\n",
    "        X_train, y_train = X[train], np.array(d_train.loc[train, 'LABEL'])\n",
    "        X_test, y_test = X[test], np.array(d_train.loc[test, 'LABEL'])\n",
    "        \n",
    "        model_b = SVC(kernel='linear', C = c_param)\n",
    "\n",
    "        model_b.fit(X_train, y_train)\n",
    "\n",
    "        y_pred = model_b.predict(X_test)\n",
    "        y_pred = np.where(y_pred > 0.5, 1, 0)\n",
    "\n",
    "        score = evaluation(y_test, y_pred)\n",
    "        score['param'] = c_param\n",
    "        score_list.append(score)"
   ]
  },
  {
   "cell_type": "code",
   "execution_count": 18,
   "metadata": {},
   "outputs": [],
   "source": [
    "d_score = pd.DataFrame(score_list)"
   ]
  },
  {
   "cell_type": "code",
   "execution_count": 19,
   "metadata": {},
   "outputs": [
    {
     "data": {
      "text/html": [
       "<div>\n",
       "<style scoped>\n",
       "    .dataframe tbody tr th:only-of-type {\n",
       "        vertical-align: middle;\n",
       "    }\n",
       "\n",
       "    .dataframe tbody tr th {\n",
       "        vertical-align: top;\n",
       "    }\n",
       "\n",
       "    .dataframe thead th {\n",
       "        text-align: right;\n",
       "    }\n",
       "</style>\n",
       "<table border=\"1\" class=\"dataframe\">\n",
       "  <thead>\n",
       "    <tr style=\"text-align: right;\">\n",
       "      <th></th>\n",
       "      <th>f1score</th>\n",
       "      <th>param</th>\n",
       "      <th>precision</th>\n",
       "      <th>recall</th>\n",
       "    </tr>\n",
       "    <tr>\n",
       "      <th>param</th>\n",
       "      <th></th>\n",
       "      <th></th>\n",
       "      <th></th>\n",
       "      <th></th>\n",
       "    </tr>\n",
       "  </thead>\n",
       "  <tbody>\n",
       "    <tr>\n",
       "      <th>0.1</th>\n",
       "      <td>0.934633</td>\n",
       "      <td>0.1</td>\n",
       "      <td>0.907139</td>\n",
       "      <td>0.964379</td>\n",
       "    </tr>\n",
       "    <tr>\n",
       "      <th>0.2</th>\n",
       "      <td>0.945454</td>\n",
       "      <td>0.2</td>\n",
       "      <td>0.930863</td>\n",
       "      <td>0.960726</td>\n",
       "    </tr>\n",
       "    <tr>\n",
       "      <th>0.3</th>\n",
       "      <td>0.948119</td>\n",
       "      <td>0.3</td>\n",
       "      <td>0.939913</td>\n",
       "      <td>0.956706</td>\n",
       "    </tr>\n",
       "    <tr>\n",
       "      <th>0.4</th>\n",
       "      <td>0.951079</td>\n",
       "      <td>0.4</td>\n",
       "      <td>0.943787</td>\n",
       "      <td>0.958715</td>\n",
       "    </tr>\n",
       "    <tr>\n",
       "      <th>0.5</th>\n",
       "      <td>0.957933</td>\n",
       "      <td>0.5</td>\n",
       "      <td>0.953238</td>\n",
       "      <td>0.962918</td>\n",
       "    </tr>\n",
       "    <tr>\n",
       "      <th>0.6</th>\n",
       "      <td>0.959754</td>\n",
       "      <td>0.6</td>\n",
       "      <td>0.956850</td>\n",
       "      <td>0.962918</td>\n",
       "    </tr>\n",
       "    <tr>\n",
       "      <th>0.7</th>\n",
       "      <td>0.962372</td>\n",
       "      <td>0.7</td>\n",
       "      <td>0.957984</td>\n",
       "      <td>0.967120</td>\n",
       "    </tr>\n",
       "    <tr>\n",
       "      <th>0.8</th>\n",
       "      <td>0.965317</td>\n",
       "      <td>0.8</td>\n",
       "      <td>0.960188</td>\n",
       "      <td>0.970774</td>\n",
       "    </tr>\n",
       "    <tr>\n",
       "      <th>0.9</th>\n",
       "      <td>0.966668</td>\n",
       "      <td>0.9</td>\n",
       "      <td>0.962057</td>\n",
       "      <td>0.971504</td>\n",
       "    </tr>\n",
       "    <tr>\n",
       "      <th>1.0</th>\n",
       "      <td>0.967196</td>\n",
       "      <td>1.0</td>\n",
       "      <td>0.963114</td>\n",
       "      <td>0.971504</td>\n",
       "    </tr>\n",
       "    <tr>\n",
       "      <th>1.1</th>\n",
       "      <td>0.967994</td>\n",
       "      <td>1.1</td>\n",
       "      <td>0.964928</td>\n",
       "      <td>0.971321</td>\n",
       "    </tr>\n",
       "    <tr>\n",
       "      <th>1.2</th>\n",
       "      <td>0.968606</td>\n",
       "      <td>1.2</td>\n",
       "      <td>0.966058</td>\n",
       "      <td>0.971503</td>\n",
       "    </tr>\n",
       "    <tr>\n",
       "      <th>1.3</th>\n",
       "      <td>0.971341</td>\n",
       "      <td>1.3</td>\n",
       "      <td>0.969697</td>\n",
       "      <td>0.973329</td>\n",
       "    </tr>\n",
       "    <tr>\n",
       "      <th>1.4</th>\n",
       "      <td>0.972003</td>\n",
       "      <td>1.4</td>\n",
       "      <td>0.969027</td>\n",
       "      <td>0.975339</td>\n",
       "    </tr>\n",
       "  </tbody>\n",
       "</table>\n",
       "</div>"
      ],
      "text/plain": [
       "        f1score  param  precision    recall\n",
       "param                                      \n",
       "0.1    0.934633    0.1   0.907139  0.964379\n",
       "0.2    0.945454    0.2   0.930863  0.960726\n",
       "0.3    0.948119    0.3   0.939913  0.956706\n",
       "0.4    0.951079    0.4   0.943787  0.958715\n",
       "0.5    0.957933    0.5   0.953238  0.962918\n",
       "0.6    0.959754    0.6   0.956850  0.962918\n",
       "0.7    0.962372    0.7   0.957984  0.967120\n",
       "0.8    0.965317    0.8   0.960188  0.970774\n",
       "0.9    0.966668    0.9   0.962057  0.971504\n",
       "1.0    0.967196    1.0   0.963114  0.971504\n",
       "1.1    0.967994    1.1   0.964928  0.971321\n",
       "1.2    0.968606    1.2   0.966058  0.971503\n",
       "1.3    0.971341    1.3   0.969697  0.973329\n",
       "1.4    0.972003    1.4   0.969027  0.975339"
      ]
     },
     "execution_count": 19,
     "metadata": {},
     "output_type": "execute_result"
    }
   ],
   "source": [
    "d_score.groupby('param')[[\"f1score\", \"param\", \"precision\", \"recall\"]].mean()"
   ]
  },
  {
   "cell_type": "markdown",
   "metadata": {},
   "source": [
    "### close train"
   ]
  },
  {
   "cell_type": "markdown",
   "metadata": {},
   "source": [
    "#### SVC"
   ]
  },
  {
   "cell_type": "code",
   "execution_count": 20,
   "metadata": {},
   "outputs": [],
   "source": [
    "model_close = SVC(kernel='linear', C = 0.4, probability=True)\n",
    "model_close.fit(X, d_train.LABEL)\n",
    "y_pred = model_close.predict(X)\n",
    "metrics = evaluation(d_train.LABEL, y_pred)"
   ]
  },
  {
   "cell_type": "code",
   "execution_count": 21,
   "metadata": {},
   "outputs": [
    {
     "data": {
      "text/plain": [
       "{'f1score': 0.97927129942471,\n",
       " 'precision': 0.9790031038889904,\n",
       " 'recall': 0.979539641943734}"
      ]
     },
     "execution_count": 21,
     "metadata": {},
     "output_type": "execute_result"
    }
   ],
   "source": [
    "metrics"
   ]
  },
  {
   "cell_type": "markdown",
   "metadata": {},
   "source": [
    "#### Xgboost"
   ]
  },
  {
   "cell_type": "code",
   "execution_count": null,
   "metadata": {},
   "outputs": [],
   "source": [
    "params = {'booster':'gbtree', 'max_depth': 500, 'eta':1, 'objective':'binary:logistic'}\n",
    "train = xgb.DMatrix(X, label=d_train.LABEL)\n",
    "\n",
    "model_xgb = xgb.train(params, train, num_boost_round=2)\n",
    "\n",
    "y_pred = model_xgb.predict(train)\n",
    "y_pred = np.where(y_pred > 0.5, 1, 0)"
   ]
  },
  {
   "cell_type": "code",
   "execution_count": null,
   "metadata": {},
   "outputs": [],
   "source": [
    "metrics = evaluation(d_train.LABEL, y_pred)"
   ]
  },
  {
   "cell_type": "code",
   "execution_count": null,
   "metadata": {},
   "outputs": [],
   "source": [
    "metrics"
   ]
  },
  {
   "cell_type": "markdown",
   "metadata": {},
   "source": [
    "## predictions"
   ]
  },
  {
   "cell_type": "markdown",
   "metadata": {},
   "source": [
    "XgBoost"
   ]
  },
  {
   "cell_type": "code",
   "execution_count": null,
   "metadata": {},
   "outputs": [],
   "source": [
    "dev = xgb.DMatrix(X_dev)\n",
    "\n",
    "y_pred_proba = model_xgb.predict(dev)\n",
    "\n",
    "y_pred = np.where(y_pred_proba > 0.7, 1, 0)"
   ]
  },
  {
   "cell_type": "code",
   "execution_count": null,
   "metadata": {},
   "outputs": [],
   "source": [
    "y_pred.sum()"
   ]
  },
  {
   "cell_type": "markdown",
   "metadata": {},
   "source": [
    "SVM"
   ]
  },
  {
   "cell_type": "code",
   "execution_count": 22,
   "metadata": {},
   "outputs": [],
   "source": [
    "model = SVC(kernel='linear', C=0.4)\n",
    "\n",
    "model.fit(X, d_train.LABEL)\n",
    "\n",
    "y_pred = model.predict(X_dev)"
   ]
  },
  {
   "cell_type": "code",
   "execution_count": 23,
   "metadata": {},
   "outputs": [],
   "source": [
    "d_dev['LABEL'] = y_pred"
   ]
  },
  {
   "cell_type": "code",
   "execution_count": 24,
   "metadata": {},
   "outputs": [],
   "source": [
    "submission = d_dev[[\"RES_ID\", \"LABEL\"]]"
   ]
  },
  {
   "cell_type": "code",
   "execution_count": 25,
   "metadata": {},
   "outputs": [
    {
     "data": {
      "text/plain": [
       "1    335\n",
       "0    124\n",
       "Name: LABEL, dtype: int64"
      ]
     },
     "execution_count": 25,
     "metadata": {},
     "output_type": "execute_result"
    }
   ],
   "source": [
    "submission.LABEL.value_counts()"
   ]
  },
  {
   "cell_type": "code",
   "execution_count": null,
   "metadata": {},
   "outputs": [],
   "source": [
    "d_dev[[\"RES_ID\", \"response_2\", \"LABEL\"]].to_excel('../data/support/inspection.xlsx', index = False)"
   ]
  },
  {
   "cell_type": "code",
   "execution_count": null,
   "metadata": {},
   "outputs": [],
   "source": [
    "output_path = os.path.join(data_path, \"output\", \"predictions_dev.json\")\n",
    "\n",
    "d_dev[[\"RES_ID\", \"LABEL\"]].to_json(output_path, orient='records')"
   ]
  },
  {
   "cell_type": "markdown",
   "metadata": {},
   "source": [
    "## Test"
   ]
  },
  {
   "cell_type": "code",
   "execution_count": 26,
   "metadata": {},
   "outputs": [],
   "source": [
    "d_test = pickle.load(open('../data/cleaned/all_test.pkl', 'rb'))"
   ]
  },
  {
   "cell_type": "markdown",
   "metadata": {},
   "source": [
    "### cleansing"
   ]
  },
  {
   "cell_type": "code",
   "execution_count": 37,
   "metadata": {},
   "outputs": [],
   "source": [
    "d_test.RESPONSE = d_test.RESPONSE.fillna('tidak tahu')"
   ]
  },
  {
   "cell_type": "code",
   "execution_count": 38,
   "metadata": {},
   "outputs": [],
   "source": [
    "d_test['response_cleansing'] = d_test.RESPONSE.apply(cleansing)"
   ]
  },
  {
   "cell_type": "markdown",
   "metadata": {},
   "source": [
    "### transform"
   ]
  },
  {
   "cell_type": "code",
   "execution_count": 40,
   "metadata": {},
   "outputs": [],
   "source": [
    "X_val = tfidf.transform(d_test.response_cleansing)"
   ]
  },
  {
   "cell_type": "markdown",
   "metadata": {},
   "source": [
    "### modeling"
   ]
  },
  {
   "cell_type": "code",
   "execution_count": 42,
   "metadata": {},
   "outputs": [],
   "source": [
    "y_pred_val = model.predict(X_val)"
   ]
  },
  {
   "cell_type": "markdown",
   "metadata": {},
   "source": [
    "### submit"
   ]
  },
  {
   "cell_type": "code",
   "execution_count": 43,
   "metadata": {},
   "outputs": [],
   "source": [
    "d_test['LABEL'] = y_pred_val"
   ]
  },
  {
   "cell_type": "code",
   "execution_count": 47,
   "metadata": {},
   "outputs": [],
   "source": [
    "submission = d_test[[\"RES_ID\", \"LABEL\"]]"
   ]
  },
  {
   "cell_type": "code",
   "execution_count": 48,
   "metadata": {},
   "outputs": [],
   "source": [
    "output_path = os.path.join(data_path, \"output\", \"predictions_test.json\")\n",
    "\n",
    "submission[[\"RES_ID\", \"LABEL\"]].to_json(output_path, orient='records')"
   ]
  },
  {
   "cell_type": "code",
   "execution_count": null,
   "metadata": {},
   "outputs": [],
   "source": []
  }
 ],
 "metadata": {
  "kernelspec": {
   "display_name": "Python 3",
   "language": "python",
   "name": "python3"
  },
  "language_info": {
   "codemirror_mode": {
    "name": "ipython",
    "version": 3
   },
   "file_extension": ".py",
   "mimetype": "text/x-python",
   "name": "python",
   "nbconvert_exporter": "python",
   "pygments_lexer": "ipython3",
   "version": "3.7.3"
  }
 },
 "nbformat": 4,
 "nbformat_minor": 2
}
